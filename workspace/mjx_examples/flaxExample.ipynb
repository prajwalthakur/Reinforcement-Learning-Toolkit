{
 "cells": [
  {
   "cell_type": "code",
   "execution_count": 1,
   "metadata": {},
   "outputs": [],
   "source": [
    "import jax\n",
    "import jax.numpy as jnp\n",
    "from flax import linen as nn\n",
    "from jax.random import PRNGKey\n",
    "\n",
    "class CNN(nn.Module):\n",
    "    @nn.compact\n",
    "    def __call__(self, x):\n",
    "        # x is expected to have shape (batch, 28, 28, 1).\n",
    "        # Convolution: from 1 input channel to 3 output channels, kernel size 4.\n",
    "        x = nn.Conv(features=3, kernel_size=(4, 4),\n",
    "                    kernel_init=nn.initializers.lecun_normal())(x)\n",
    "        # Max pooling with a 2x2 window (using default strides equal to the window)\n",
    "        x = nn.max_pool(x, window_shape=(2, 2), strides=(2, 2), padding='VALID')\n",
    "        # Apply ReLU activation.\n",
    "        x = nn.relu(x)\n",
    "        # Flatten all dimensions except for the batch dimension.\n",
    "        x = x.reshape((x.shape[0], -1))\n",
    "        # At this point in the Equinox model, the flattened features have size 1728.\n",
    "        # Dense layer: from flattened features to 512 features.\n",
    "        x = nn.Dense(features=512,\n",
    "                     kernel_init=nn.initializers.lecun_normal())(x)\n",
    "        # Sigmoid activation.\n",
    "        x = nn.sigmoid(x)\n",
    "        # Dense layer: from 512 features to 64 features.\n",
    "        x = nn.Dense(features=64, \n",
    "                     kernel_init=nn.initializers.lecun_normal())(x)\n",
    "        # ReLU activation.\n",
    "        x = nn.relu(x)\n",
    "        # Final Dense layer: from 64 features to 10 output classes.\n",
    "        x = nn.Dense(features=10,\n",
    "                     kernel_init=nn.initializers.lecun_normal())(x)\n",
    "        # Apply log softmax for a log-probability output.\n",
    "        x = nn.log_softmax(x)\n",
    "        return x\n",
    "\n"
   ]
  },
  {
   "cell_type": "code",
   "execution_count": 2,
   "metadata": {},
   "outputs": [
    {
     "name": "stdout",
     "output_type": "stream",
     "text": [
      "Logits shape: (1, 10)\n"
     ]
    }
   ],
   "source": [
    "# Example usage:\n",
    "if __name__ == \"__main__\":\n",
    "    # Create a random key\n",
    "    rng = PRNGKey(0)\n",
    "    \n",
    "    # Instantiate the model; no parameters are stored on the instance.\n",
    "    cnn = CNN()\n",
    "\n",
    "    # Create a dummy input with a batch dimension.\n",
    "    # For MNIST, each image is 28x28. Flax typically expects a 4D tensor:\n",
    "    # (batch, height, width, channels). If your input is (1, 28, 28), add a channel dim.\n",
    "    dummy_input = jnp.ones((1, 28, 28, 1))\n",
    "    \n",
    "    # Initialize the parameters of the model.\n",
    "    params = cnn.init(rng, dummy_input)\n",
    "    \n",
    "    # Apply the model to the dummy input.\n",
    "    logits = cnn.apply(params, dummy_input)\n",
    "    print(\"Logits shape:\", logits.shape)  # Expected output: (1, 10)\n"
   ]
  },
  {
   "cell_type": "code",
   "execution_count": 3,
   "metadata": {},
   "outputs": [
    {
     "data": {
      "text/plain": [
       "Array([[-2.5710626, -2.173689 , -3.0893073, -2.694003 , -2.450419 ,\n",
       "        -1.308671 , -2.7668211, -2.6447802, -2.6483612, -1.9983457]],      dtype=float32)"
      ]
     },
     "execution_count": 3,
     "metadata": {},
     "output_type": "execute_result"
    }
   ],
   "source": [
    "logits"
   ]
  },
  {
   "cell_type": "code",
   "execution_count": null,
   "metadata": {},
   "outputs": [],
   "source": []
  }
 ],
 "metadata": {
  "kernelspec": {
   "display_name": "Python 3",
   "language": "python",
   "name": "python3"
  },
  "language_info": {
   "codemirror_mode": {
    "name": "ipython",
    "version": 3
   },
   "file_extension": ".py",
   "mimetype": "text/x-python",
   "name": "python",
   "nbconvert_exporter": "python",
   "pygments_lexer": "ipython3",
   "version": "3.10.12"
  }
 },
 "nbformat": 4,
 "nbformat_minor": 2
}
